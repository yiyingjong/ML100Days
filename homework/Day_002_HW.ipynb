{
 "cells": [
  {
   "cell_type": "markdown",
   "metadata": {},
   "source": [
    "## [作業目標]\n",
    "了解機器學習適合應用的領域與範疇。"
   ]
  },
  {
   "cell_type": "markdown",
   "metadata": {},
   "source": [
    "## [作業重點]\n",
    "透過瞭解機器學習的運作方式，找出非常適用機器學習應用的領域及其原因"
   ]
  },
  {
   "cell_type": "markdown",
   "metadata": {},
   "source": [
    "## 作業\n",
    "請找出一個你認為機器學習可以發光發熱的領域並闡述原因? "
   ]
  },
  {
   "cell_type": "raw",
   "metadata": {},
   "source": [
    "應用：股票買賣之價格與時機－以歷史交易資料做supervised learning回測找出勝率高的進出場時機\n",
    "\n",
    "研究原因：行為財務學主張投資人並不理性，經常存在過度樂觀與過度自信的現象而低估風險，且存在損失趨避現象，在股價漲時很快地獲利了結，股價跌時卻惜售，這樣的情況也發生在自身實際股票操作上，是散戶們股票操作的心魔。\n",
    "\n",
    "適合機器學習原因：股票交易歷史資料龐大、label data容易蒐集，量化資料適合機器學習處理。"
   ]
  }
 ],
 "metadata": {
  "kernelspec": {
   "display_name": "Python 3",
   "language": "python",
   "name": "python3"
  },
  "language_info": {
   "codemirror_mode": {
    "name": "ipython",
    "version": 3
   },
   "file_extension": ".py",
   "mimetype": "text/x-python",
   "name": "python",
   "nbconvert_exporter": "python",
   "pygments_lexer": "ipython3",
   "version": "3.7.6"
  }
 },
 "nbformat": 4,
 "nbformat_minor": 2
}
